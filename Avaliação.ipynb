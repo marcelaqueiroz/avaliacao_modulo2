{
 "cells": [
  {
   "cell_type": "markdown",
   "id": "aba5bc43",
   "metadata": {},
   "source": [
    "# Avaliacão Módulo II"
   ]
  },
  {
   "cell_type": "markdown",
   "id": "8276b78c",
   "metadata": {},
   "source": [
    "Faca um programa que:\n",
    "1) Carregue os dados de um csv remoto, ex. csv do github, csv de uma base aberta qualquer ou API.  \n",
    "2) Crie uma api que filtre esses dados e retorne o json dos dados filtrados.  \n",
    "3) A partir dos dados filtrados você deve escolher uma variável quantitativa para agregar com um groupby e criar um csv e um json resposta, ambos devem ser persistidos.  \n",
    "4) A partir dos dados filtrados você deve escolher um gráfico para fazer como por exemplo fizemos as gorgetas dadas por sexo ou dia da semana. Crie uma figura png ou jpeg resposta.  \n",
    "5) Coloque sua resposta em um projeto novo no git e envie por e-mail.  \n",
    "  \n",
    "Entregar até 29/11."
   ]
  },
  {
   "cell_type": "code",
   "execution_count": 1,
   "id": "c8ab892f",
   "metadata": {},
   "outputs": [],
   "source": [
    "import pandas as pd"
   ]
  },
  {
   "cell_type": "code",
   "execution_count": 2,
   "id": "72b3003c",
   "metadata": {},
   "outputs": [],
   "source": [
    "data = pd.read_csv('http://dados.recife.pe.gov.br/dataset/4d3a3b39-9ea9-46ed-bf21-a2670de519c1/resource/7c613836-9edd-4c0f-bc72-495008dd29c3/download/info_unidadesensino_07102021.csv',sep=';', skipinitialspace = True)"
   ]
  },
  {
   "cell_type": "code",
   "execution_count": 3,
   "id": "1d8743a5",
   "metadata": {},
   "outputs": [
    {
     "name": "stdout",
     "output_type": "stream",
     "text": [
      "<class 'pandas.core.frame.DataFrame'>\n",
      "RangeIndex: 351 entries, 0 to 350\n",
      "Data columns (total 23 columns):\n",
      " #   Column              Non-Null Count  Dtype  \n",
      "---  ------              --------------  -----  \n",
      " 0   rpa                 351 non-null    int64  \n",
      " 1   tipo_cod            351 non-null    int64  \n",
      " 2   tipo                351 non-null    object \n",
      " 3   cod_escola          351 non-null    int64  \n",
      " 4   escola              351 non-null    object \n",
      " 5   inep                349 non-null    float64\n",
      " 6   rua                 345 non-null    object \n",
      " 7   numero              351 non-null    object \n",
      " 8   cod_bairro          351 non-null    int64  \n",
      " 9   bairro              351 non-null    object \n",
      " 10  metragem            312 non-null    object \n",
      " 11  qtd_alunos          351 non-null    int64  \n",
      " 12  qtd_turmas          351 non-null    int64  \n",
      " 13  qtd_professores     351 non-null    int64  \n",
      " 14  escola_climatizada  351 non-null    object \n",
      " 15  data_visita         125 non-null    object \n",
      " 16  quadra_coberta      351 non-null    object \n",
      " 17  quadra_descoberta   351 non-null    object \n",
      " 18  biblioteca          351 non-null    object \n",
      " 19  sala_recurso        351 non-null    object \n",
      " 20  gestor              322 non-null    object \n",
      " 21  longitude           345 non-null    float64\n",
      " 22  latitude            345 non-null    float64\n",
      "dtypes: float64(3), int64(7), object(13)\n",
      "memory usage: 63.2+ KB\n"
     ]
    }
   ],
   "source": [
    "data.info()"
   ]
  },
  {
   "cell_type": "code",
   "execution_count": 4,
   "id": "a39e4be4",
   "metadata": {},
   "outputs": [
    {
     "data": {
      "text/plain": [
       "array(['CABANGA', 'SANTO AMARO', 'ILHA JOANA BEZERRA', 'COELHOS',\n",
       "       'RECIFE', 'BOA VISTA', 'ILHA DO LEITE', 'SAO JOSE', 'AGUA FRIA',\n",
       "       'DOIS UNIDOS', 'FUNDAO', 'CAMPINA DO BARRETO',\n",
       "       'ALTO SANTA TEREZINHA', 'CAJUEIRO', 'TORREAO',\n",
       "       'BOMBA DO HEMETERIO', 'BEBERIBE', 'ENCRUZILHADA',\n",
       "       'ALTO JOSE BONIFACIO', 'CAMPO GRANDE', 'PEIXINHOS',\n",
       "       'LINHA DO TIRO', 'ARRUDA', 'BREJO DA GUABIRABA',\n",
       "       'BREJO DE BEBERIBE', 'NOVA DESCOBERTA', 'MACAXEIRA',\n",
       "       'CORREGO DO JENIPAPO', 'VASCO DA GAMA', 'GUABIRABA', 'PASSARINHO',\n",
       "       'MORRO DA CONCEICAO', 'MANGABEIRA', 'TAMARINEIRA', 'ESPINHEIRO',\n",
       "       'CASA AMARELA', 'ALTO DO MANDU', 'SITIO DOS PINTOS', 'DERBY',\n",
       "       'MONTEIRO', 'ALTO JOSE DO PINHO', 'DOIS IRMAOS', 'PARNAMIRIM',\n",
       "       'SANTANA', 'APIPUCOS', 'TORROES', 'IPUTINGA', 'VARZEA', 'CORDEIRO',\n",
       "       'PRADO', 'ENGENHO DO MEIO', 'ILHA DO RETIRO', 'CAXANGA', 'TORRE',\n",
       "       'MADALENA', 'CIDADE UNIVERSITARIA', 'COQUEIRAL', 'ESTANCIA',\n",
       "       'SAN MARTIN', 'JARDIM SAO PAULO', 'AREIAS', 'BARRO', 'COHAB',\n",
       "       'SANCHO', 'AFOGADOS', 'MUSTARDINHA', 'CURADO', 'TOTO', 'CACOTE',\n",
       "       'BONGI', 'MANGUEIRA', 'BOA VIAGEM', 'IMBIRIBEIRA', 'IPSEP',\n",
       "       'IBURA', 'JORDAO', 'PINA', 'BRASILIA TEIMOSA'], dtype=object)"
      ]
     },
     "execution_count": 4,
     "metadata": {},
     "output_type": "execute_result"
    }
   ],
   "source": [
    "data['bairro'].unique()"
   ]
  },
  {
   "cell_type": "code",
   "execution_count": 5,
   "id": "5f953962",
   "metadata": {},
   "outputs": [
    {
     "data": {
      "text/html": [
       "<div>\n",
       "<style scoped>\n",
       "    .dataframe tbody tr th:only-of-type {\n",
       "        vertical-align: middle;\n",
       "    }\n",
       "\n",
       "    .dataframe tbody tr th {\n",
       "        vertical-align: top;\n",
       "    }\n",
       "\n",
       "    .dataframe thead th {\n",
       "        text-align: right;\n",
       "    }\n",
       "</style>\n",
       "<table border=\"1\" class=\"dataframe\">\n",
       "  <thead>\n",
       "    <tr style=\"text-align: right;\">\n",
       "      <th></th>\n",
       "      <th>rpa</th>\n",
       "      <th>tipo_cod</th>\n",
       "      <th>tipo</th>\n",
       "      <th>cod_escola</th>\n",
       "      <th>escola</th>\n",
       "      <th>inep</th>\n",
       "      <th>rua</th>\n",
       "      <th>numero</th>\n",
       "      <th>cod_bairro</th>\n",
       "      <th>bairro</th>\n",
       "      <th>...</th>\n",
       "      <th>qtd_professores</th>\n",
       "      <th>escola_climatizada</th>\n",
       "      <th>data_visita</th>\n",
       "      <th>quadra_coberta</th>\n",
       "      <th>quadra_descoberta</th>\n",
       "      <th>biblioteca</th>\n",
       "      <th>sala_recurso</th>\n",
       "      <th>gestor</th>\n",
       "      <th>longitude</th>\n",
       "      <th>latitude</th>\n",
       "    </tr>\n",
       "  </thead>\n",
       "  <tbody>\n",
       "    <tr>\n",
       "      <th>0</th>\n",
       "      <td>1</td>\n",
       "      <td>1</td>\n",
       "      <td>ESCOLA MUNICIPAL</td>\n",
       "      <td>90</td>\n",
       "      <td>ALMIRANTE SOARES DUTRA</td>\n",
       "      <td>26120658.0</td>\n",
       "      <td>CAMUTANGA</td>\n",
       "      <td>180</td>\n",
       "      <td>51</td>\n",
       "      <td>CABANGA</td>\n",
       "      <td>...</td>\n",
       "      <td>12</td>\n",
       "      <td>SIM</td>\n",
       "      <td>27/2/2018</td>\n",
       "      <td>NÃO</td>\n",
       "      <td>NÃO</td>\n",
       "      <td>SIM</td>\n",
       "      <td>SIM</td>\n",
       "      <td>VERONICA MARIA LIMA</td>\n",
       "      <td>-34.89535</td>\n",
       "      <td>-8.07895</td>\n",
       "    </tr>\n",
       "    <tr>\n",
       "      <th>1</th>\n",
       "      <td>1</td>\n",
       "      <td>1</td>\n",
       "      <td>ESCOLA MUNICIPAL</td>\n",
       "      <td>289</td>\n",
       "      <td>CIDADAO HERBERT DE SOUZA</td>\n",
       "      <td>26121972.0</td>\n",
       "      <td>ARNOBIO MARQUES</td>\n",
       "      <td>310</td>\n",
       "      <td>108</td>\n",
       "      <td>SANTO AMARO</td>\n",
       "      <td>...</td>\n",
       "      <td>12</td>\n",
       "      <td>NÂO</td>\n",
       "      <td>NaN</td>\n",
       "      <td>NÃO</td>\n",
       "      <td>NÃO</td>\n",
       "      <td>NÃO</td>\n",
       "      <td>SIM</td>\n",
       "      <td>ANA CLAUDIA DO NASCIMENTO SILVA</td>\n",
       "      <td>-34.88707</td>\n",
       "      <td>-8.04576</td>\n",
       "    </tr>\n",
       "    <tr>\n",
       "      <th>2</th>\n",
       "      <td>1</td>\n",
       "      <td>1</td>\n",
       "      <td>ESCOLA MUNICIPAL</td>\n",
       "      <td>256</td>\n",
       "      <td>DO COQUE</td>\n",
       "      <td>26122898.0</td>\n",
       "      <td>MIRANDOPOLIS</td>\n",
       "      <td>35</td>\n",
       "      <td>43</td>\n",
       "      <td>ILHA JOANA BEZERRA</td>\n",
       "      <td>...</td>\n",
       "      <td>22</td>\n",
       "      <td>NÂO</td>\n",
       "      <td>NaN</td>\n",
       "      <td>NÃO</td>\n",
       "      <td>NÃO</td>\n",
       "      <td>SIM</td>\n",
       "      <td>SIM</td>\n",
       "      <td>GRIJALBA MARIA PESSOA</td>\n",
       "      <td>-34.90022</td>\n",
       "      <td>-8.07145</td>\n",
       "    </tr>\n",
       "    <tr>\n",
       "      <th>3</th>\n",
       "      <td>1</td>\n",
       "      <td>1</td>\n",
       "      <td>ESCOLA MUNICIPAL</td>\n",
       "      <td>91</td>\n",
       "      <td>DOS COELHOS</td>\n",
       "      <td>26118670.0</td>\n",
       "      <td>DOS COELHOS</td>\n",
       "      <td>591</td>\n",
       "      <td>60</td>\n",
       "      <td>COELHOS</td>\n",
       "      <td>...</td>\n",
       "      <td>28</td>\n",
       "      <td>NÂO</td>\n",
       "      <td>NaN</td>\n",
       "      <td>NÃO</td>\n",
       "      <td>NÃO</td>\n",
       "      <td>SIM</td>\n",
       "      <td>SIM</td>\n",
       "      <td>FRANCISCA ANGELA DA SILVA</td>\n",
       "      <td>-34.89097</td>\n",
       "      <td>-8.06876</td>\n",
       "    </tr>\n",
       "    <tr>\n",
       "      <th>4</th>\n",
       "      <td>1</td>\n",
       "      <td>1</td>\n",
       "      <td>ESCOLA MUNICIPAL</td>\n",
       "      <td>384</td>\n",
       "      <td>FREI TADEU GLASER</td>\n",
       "      <td>26175347.0</td>\n",
       "      <td>AGAMENON MAGALHAES</td>\n",
       "      <td>600</td>\n",
       "      <td>108</td>\n",
       "      <td>SANTO AMARO</td>\n",
       "      <td>...</td>\n",
       "      <td>7</td>\n",
       "      <td>NÂO</td>\n",
       "      <td>19/4/2017</td>\n",
       "      <td>NÃO</td>\n",
       "      <td>NÃO</td>\n",
       "      <td>SIM</td>\n",
       "      <td>NÃO</td>\n",
       "      <td>KIRIA CELESTE DORNELAS DA SILVA</td>\n",
       "      <td>-34.87818</td>\n",
       "      <td>-8.04006</td>\n",
       "    </tr>\n",
       "  </tbody>\n",
       "</table>\n",
       "<p>5 rows × 23 columns</p>\n",
       "</div>"
      ],
      "text/plain": [
       "   rpa  tipo_cod              tipo  cod_escola                    escola  \\\n",
       "0    1         1  ESCOLA MUNICIPAL          90    ALMIRANTE SOARES DUTRA   \n",
       "1    1         1  ESCOLA MUNICIPAL         289  CIDADAO HERBERT DE SOUZA   \n",
       "2    1         1  ESCOLA MUNICIPAL         256                  DO COQUE   \n",
       "3    1         1  ESCOLA MUNICIPAL          91               DOS COELHOS   \n",
       "4    1         1  ESCOLA MUNICIPAL         384         FREI TADEU GLASER   \n",
       "\n",
       "         inep                 rua numero  cod_bairro              bairro  ...  \\\n",
       "0  26120658.0           CAMUTANGA    180          51             CABANGA  ...   \n",
       "1  26121972.0     ARNOBIO MARQUES    310         108         SANTO AMARO  ...   \n",
       "2  26122898.0        MIRANDOPOLIS     35          43  ILHA JOANA BEZERRA  ...   \n",
       "3  26118670.0         DOS COELHOS    591          60             COELHOS  ...   \n",
       "4  26175347.0  AGAMENON MAGALHAES    600         108         SANTO AMARO  ...   \n",
       "\n",
       "  qtd_professores  escola_climatizada  data_visita  quadra_coberta  \\\n",
       "0              12                 SIM    27/2/2018             NÃO   \n",
       "1              12                 NÂO          NaN             NÃO   \n",
       "2              22                 NÂO          NaN             NÃO   \n",
       "3              28                 NÂO          NaN             NÃO   \n",
       "4               7                 NÂO    19/4/2017             NÃO   \n",
       "\n",
       "  quadra_descoberta biblioteca sala_recurso                           gestor  \\\n",
       "0               NÃO        SIM          SIM              VERONICA MARIA LIMA   \n",
       "1               NÃO        NÃO          SIM  ANA CLAUDIA DO NASCIMENTO SILVA   \n",
       "2               NÃO        SIM          SIM            GRIJALBA MARIA PESSOA   \n",
       "3               NÃO        SIM          SIM        FRANCISCA ANGELA DA SILVA   \n",
       "4               NÃO        SIM          NÃO  KIRIA CELESTE DORNELAS DA SILVA   \n",
       "\n",
       "  longitude latitude  \n",
       "0 -34.89535 -8.07895  \n",
       "1 -34.88707 -8.04576  \n",
       "2 -34.90022 -8.07145  \n",
       "3 -34.89097 -8.06876  \n",
       "4 -34.87818 -8.04006  \n",
       "\n",
       "[5 rows x 23 columns]"
      ]
     },
     "execution_count": 5,
     "metadata": {},
     "output_type": "execute_result"
    }
   ],
   "source": [
    "data.head()"
   ]
  },
  {
   "cell_type": "code",
   "execution_count": 6,
   "id": "fefc2adb",
   "metadata": {},
   "outputs": [],
   "source": [
    "data.to_csv('escolas.csv', index=False)"
   ]
  },
  {
   "cell_type": "code",
   "execution_count": 7,
   "id": "e5cc6f98",
   "metadata": {},
   "outputs": [],
   "source": [
    "bairro='afogados'\n",
    "bairro_procurado = (data['bairro'] == bairro.upper())\n",
    "escolas_bairro = data[bairro_procurado]"
   ]
  },
  {
   "cell_type": "code",
   "execution_count": 8,
   "id": "ad993429",
   "metadata": {},
   "outputs": [],
   "source": [
    "data.set_index('cod_escola', inplace=True)"
   ]
  },
  {
   "cell_type": "code",
   "execution_count": 9,
   "id": "3c904c57",
   "metadata": {},
   "outputs": [
    {
     "data": {
      "text/plain": [
       "array([1, 2, 5, 8], dtype=int64)"
      ]
     },
     "execution_count": 9,
     "metadata": {},
     "output_type": "execute_result"
    }
   ],
   "source": [
    "data['tipo_cod'].unique()"
   ]
  },
  {
   "cell_type": "code",
   "execution_count": 10,
   "id": "114ea9cb",
   "metadata": {},
   "outputs": [
    {
     "name": "stdout",
     "output_type": "stream",
     "text": [
      "Writing api.py\n"
     ]
    }
   ],
   "source": [
    "%%writefile api.py\n",
    "from flask import Flask, make_response\n",
    "from flask_restful import Resource, Api\n",
    "import pandas as pd\n",
    "\n",
    "app = Flask(__name__)\n",
    "api = Api(app)\n",
    "\n",
    "df = pd.read_csv('escolas.csv')\n",
    "df.set_index('cod_escola')\n",
    "\n",
    "class Bairro(Resource):\n",
    "    def get(self, bairro):\n",
    "        bairro_procurado = (df['bairro'] == bairro.upper())\n",
    "        escolas_bairro = df[bairro_procurado]\n",
    "        escolas_bairro.to_csv(f'escolas_{bairro}.csv')\n",
    "        return make_response(escolas_bairro.to_json(orient='index',  force_ascii=False))\n",
    "\n",
    "class Escola(Resource):\n",
    "    def get(self,cod_escola):\n",
    "        escola_procurada = df.loc[[cod_escola]]\n",
    "        return make_response(escola_procurada.to_json(orient='index',force_ascii=False))\n",
    "\n",
    "class Tipo(Resource):\n",
    "    def get(self, tipo_cod):\n",
    "        tipo_procurado = (df['tipo_cod'] == tipo_cod)\n",
    "        escolas_tipo = df[tipo_procurado]\n",
    "        escolas_tipo.to_csv(f'tipo_{tipo_cod}.csv')\n",
    "        return make_response(escolas_tipo.to_json(orient='index',  force_ascii=False))\n",
    "    \n",
    "api.add_resource(Bairro, '/bairro/<string:bairro>')\n",
    "api.add_resource(Escola, '/escola/<int:cod_escola>')\n",
    "api.add_resource(Tipo, '/tipo/<int:tipo_cod>')\n",
    "\n",
    "if __name__ == '__main__':\n",
    "    app.run(debug=True)"
   ]
  },
  {
   "cell_type": "code",
   "execution_count": null,
   "id": "4af129dc",
   "metadata": {},
   "outputs": [],
   "source": []
  },
  {
   "cell_type": "code",
   "execution_count": 37,
   "id": "85e666c8",
   "metadata": {},
   "outputs": [
    {
     "name": "stdout",
     "output_type": "stream",
     "text": [
      "^C\n"
     ]
    }
   ],
   "source": [
    "!python api.py"
   ]
  },
  {
   "cell_type": "code",
   "execution_count": null,
   "id": "6a327a6e",
   "metadata": {
    "collapsed": true
   },
   "outputs": [],
   "source": []
  },
  {
   "cell_type": "code",
   "execution_count": null,
   "id": "a42bb587",
   "metadata": {},
   "outputs": [],
   "source": []
  }
 ],
 "metadata": {
  "kernelspec": {
   "display_name": "Python 3 (ipykernel)",
   "language": "python",
   "name": "python3"
  },
  "language_info": {
   "codemirror_mode": {
    "name": "ipython",
    "version": 3
   },
   "file_extension": ".py",
   "mimetype": "text/x-python",
   "name": "python",
   "nbconvert_exporter": "python",
   "pygments_lexer": "ipython3",
   "version": "3.9.6"
  }
 },
 "nbformat": 4,
 "nbformat_minor": 5
}
